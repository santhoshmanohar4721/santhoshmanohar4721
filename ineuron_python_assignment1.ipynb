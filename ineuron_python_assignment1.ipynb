{
 "cells": [
  {
   "cell_type": "markdown",
   "metadata": {
    "application/vnd.databricks.v1+cell": {
     "cellMetadata": {},
     "inputWidgets": {},
     "nuid": "c262a75e-1211-49e1-b110-a73f50099737",
     "showTitle": false,
     "title": ""
    }
   },
   "source": [
    "1. In the below elements which of them are values or an expression? eg:- values can be\n",
    "integer or string and expressions will be mathematical operators.\n",
    "\n",
    "* expression\n",
    "\n",
    "'hello' - value\n",
    "\n",
    "-87.8 -value\n",
    "\n",
    "- expression\n",
    "\n",
    "/ expression\n",
    "\n",
    "+ expression\n",
    "\n",
    "6 value"
   ]
  },
  {
   "cell_type": "markdown",
   "metadata": {
    "application/vnd.databricks.v1+cell": {
     "cellMetadata": {
      "byteLimit": 2048000,
      "rowLimit": 10000
     },
     "inputWidgets": {},
     "nuid": "6e0ddb12-7ea3-49aa-a5fc-ce61614b90fa",
     "showTitle": false,
     "title": ""
    }
   },
   "source": [
    "What is the difference between string and variable?\n",
    "\n",
    "a string is a value representing text\n",
    "\n",
    "a variable is a name that can refer to any value"
   ]
  },
  {
   "cell_type": "markdown",
   "metadata": {
    "application/vnd.databricks.v1+cell": {
     "cellMetadata": {},
     "inputWidgets": {},
     "nuid": "39775f16-94a2-404b-9d5e-b7d6e0ada341",
     "showTitle": false,
     "title": ""
    }
   },
   "source": [
    "Describe three different data types.\n",
    "\n",
    "integer: It contains positive or negative whole numbers (without fractions or decimals).\n",
    "\n",
    "float: It is a real number with a floating-point representation. It is specified by a decimal point.\n",
    "\n",
    "list : list are just like arrays, declared in other languages which is an ordered collection of data.\n",
    "\n"
   ]
  },
  {
   "cell_type": "markdown",
   "metadata": {
    "application/vnd.databricks.v1+cell": {
     "cellMetadata": {},
     "inputWidgets": {},
     "nuid": "567038cf-c150-4d92-a590-2a9100b79efc",
     "showTitle": false,
     "title": ""
    }
   },
   "source": [
    "What is an expression made up of? What do all expressions do?\n",
    "\n",
    "An expression is a combination of operators and operands that is interpreted to produce some other value"
   ]
  },
  {
   "cell_type": "markdown",
   "metadata": {
    "application/vnd.databricks.v1+cell": {
     "cellMetadata": {
      "byteLimit": 2048000,
      "rowLimit": 10000
     },
     "inputWidgets": {},
     "nuid": "3d3fae15-1ed8-41f6-b27a-d94d6237fd0f",
     "showTitle": false,
     "title": ""
    }
   },
   "source": [
    "This assignment statements, like spam = 10. What is the difference between an\n",
    "expression and a statement?\n",
    "\n",
    "An expression is a combination of variables, operators, and method invocations that evaluates to a single value\n",
    "\n",
    "A statement is a complete line of code that performs some action. It's a standalone unit of execution"
   ]
  },
  {
   "cell_type": "markdown",
   "metadata": {
    "application/vnd.databricks.v1+cell": {
     "cellMetadata": {},
     "inputWidgets": {},
     "nuid": "da726ac9-ee8a-4045-8e14-477504d87e21",
     "showTitle": false,
     "title": ""
    }
   },
   "source": [
    "After running the following code, what does the variable bacon contain?\n",
    "\n",
    "bacon = 22\n",
    "\n",
    "bacon + 1\n",
    "\n",
    "\n",
    "bacon still contains 22"
   ]
  },
  {
   "cell_type": "markdown",
   "metadata": {
    "application/vnd.databricks.v1+cell": {
     "cellMetadata": {},
     "inputWidgets": {},
     "nuid": "5ebfe6ea-b169-4e6a-93f2-4611902e351a",
     "showTitle": false,
     "title": ""
    }
   },
   "source": [
    "What should the values of the following two terms be?  'spam'+'spamspam' ,  'spam'*3\n",
    "\n",
    "both gives the same values 'spamspamspam'\n"
   ]
  },
  {
   "cell_type": "markdown",
   "metadata": {
    "application/vnd.databricks.v1+cell": {
     "cellMetadata": {},
     "inputWidgets": {},
     "nuid": "899748be-9ecc-4bdf-a1ed-d58f8775729c",
     "showTitle": false,
     "title": ""
    }
   },
   "source": [
    "\n",
    "Why is eggs a valid variable name while 100 is invalid?\n",
    "\n",
    "eggs is a valid variable name because it starts with a letter.\n",
    "100 is invalid as a variable name because it starts with a number, violating the rule that variable names cannot start with a number."
   ]
  },
  {
   "cell_type": "markdown",
   "metadata": {
    "application/vnd.databricks.v1+cell": {
     "cellMetadata": {},
     "inputWidgets": {},
     "nuid": "1ac4f29b-954d-4f40-bfa1-ba182121f9be",
     "showTitle": false,
     "title": ""
    }
   },
   "source": [
    "What three functions can be used to get the integer, floating-point number, or string\n",
    "version of a value?\n",
    "\n",
    "we can use int(), float(), str() to convert into integer, float, string."
   ]
  },
  {
   "cell_type": "markdown",
   "metadata": {
    "application/vnd.databricks.v1+cell": {
     "cellMetadata": {},
     "inputWidgets": {},
     "nuid": "1903fc4f-6ebc-47ea-a94f-fe5a80d2a4fb",
     "showTitle": false,
     "title": ""
    }
   },
   "source": [
    "Why does this expression cause an error? How can you fix it?\n",
    "'I have eaten'  + 99 + 'burritos'\n",
    "\n",
    "we are trying to add sting with integer. so it will cause an error.\n",
    "\n",
    "'I have eaten'  + str(99) + 'burritos'\n",
    "\n"
   ]
  },
  {
   "cell_type": "code",
   "execution_count": 0,
   "metadata": {
    "application/vnd.databricks.v1+cell": {
     "cellMetadata": {},
     "inputWidgets": {},
     "nuid": "8e89eb6b-576d-4fb7-9dbf-3c8347e17a91",
     "showTitle": false,
     "title": ""
    }
   },
   "outputs": [],
   "source": []
  }
 ],
 "metadata": {
  "application/vnd.databricks.v1+notebook": {
   "dashboards": [],
   "language": "python",
   "notebookMetadata": {
    "pythonIndentUnit": 4
   },
   "notebookName": "ineuron_python_assignment1",
   "widgets": {}
  }
 },
 "nbformat": 4,
 "nbformat_minor": 0
}
